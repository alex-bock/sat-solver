{
 "cells": [
  {
   "cell_type": "code",
   "execution_count": null,
   "metadata": {},
   "outputs": [],
   "source": [
    "import glob\n",
    "import json\n",
    "import os\n",
    "import pandas as pd\n",
    "\n",
    "def get_method_df(method: str, n: int) -> pd.DataFrame:\n",
    "\n",
    "    method_df = pd.DataFrame()\n",
    "    for fp in sorted(glob.glob(os.path.join(\"../results/\", method, f\"n={n}/\", \"l=*.json\"))):\n",
    "        with open(fp, \"r\") as f:\n",
    "            result_json = json.load(f)\n",
    "        if len(result_json[\"results\"]) == 0:\n",
    "            continue\n",
    "        result_df = pd.DataFrame(result_json[\"results\"])\n",
    "        result_df[\"l\"] = result_json[\"l\"]\n",
    "        method_df = pd.concat([method_df, result_df])\n",
    "    \n",
    "    return method_df"
   ]
  },
  {
   "cell_type": "code",
   "execution_count": null,
   "metadata": {},
   "outputs": [],
   "source": [
    "n = 50\n",
    "\n",
    "random_df = get_method_df(method=\"random\", n=n)\n",
    "two_df = get_method_df(method=\"two\", n=n)\n",
    "modal_df = get_method_df(method=\"modal\", n=n)"
   ]
  },
  {
   "cell_type": "code",
   "execution_count": null,
   "metadata": {},
   "outputs": [],
   "source": [
    "stats = {\n",
    "    \"runtime\": {\n",
    "        \"random\": [random_df[random_df.l == l].runtime.median() for l in random_df.l.unique()],\n",
    "        \"two\": [two_df[two_df.l == l].runtime.median() for l in two_df.l.unique()],\n",
    "        \"modal\": [modal_df[modal_df.l == l].runtime.median() for l in modal_df.l.unique()]\n",
    "    },\n",
    "    \"calls\": {\n",
    "         \"random\": [random_df[random_df.l == l].n_calls.median() for l in random_df.l.unique()],\n",
    "        \"two\": [two_df[two_df.l == l].n_calls.median() for l in two_df.l.unique()],\n",
    "        \"modal\": [modal_df[modal_df.l == l].n_calls.median() for l in modal_df.l.unique()]\n",
    "    }\n",
    "}"
   ]
  },
  {
   "cell_type": "code",
   "execution_count": null,
   "metadata": {},
   "outputs": [],
   "source": [
    "import plotly.graph_objects as go\n",
    "from typing import List\n",
    "\n",
    "def compare_performance(method_1: str, method_2: str, metric: str, x: List[int], y_unit: str = \"\", title: str = None):\n",
    "\n",
    "    fig = go.Figure()\n",
    "\n",
    "    fig.add_trace(go.Scatter(x=x, y=stats[metric][method_1], name=method_1))\n",
    "    fig.add_trace(go.Scatter(x=x, y=stats[metric][method_2], name=method_2))\n",
    "\n",
    "    fig.update_layout(\n",
    "        title=title,\n",
    "        xaxis_title=\"Ratio\",\n",
    "        yaxis_title=metric.capitalize() + f\" ({y_unit})\",\n",
    "        legend_title=\"Heuristic\"\n",
    "    )\n",
    "\n",
    "    return fig"
   ]
  },
  {
   "cell_type": "code",
   "execution_count": null,
   "metadata": {},
   "outputs": [],
   "source": [
    "fig = compare_performance(\"random\", \"modal\", metric=\"runtime\", x=random_df.l.unique() / n, y_unit=\"s\", title=f\"Runtime (n={n})\")\n",
    "fig.write_image(\"../plots/runtime_random_v_modal.png\")\n",
    "fig.show()"
   ]
  },
  {
   "cell_type": "code",
   "execution_count": null,
   "metadata": {},
   "outputs": [],
   "source": [
    "fig = compare_performance(\"two\", \"modal\", metric=\"runtime\", x=two_df.l.unique() / n, y_unit=\"s\", title=f\"Runtime (n={n})\")\n",
    "fig.write_image(\"../plots/runtime_two_v_modal.png\")\n",
    "fig.show()"
   ]
  },
  {
   "cell_type": "code",
   "execution_count": null,
   "metadata": {},
   "outputs": [],
   "source": [
    "fig = compare_performance(\"random\", \"modal\", metric=\"calls\", x=random_df.l.unique() / n, y_unit=\"#\", title=f\"Splitting calls (n={n})\")\n",
    "fig.write_image(\"../plots/calls_random_v_modal.png\")\n",
    "fig.show()"
   ]
  },
  {
   "cell_type": "code",
   "execution_count": null,
   "metadata": {},
   "outputs": [],
   "source": [
    "fig = compare_performance(\"two\", \"modal\", metric=\"calls\", x=two_df.l.unique() / n, y_unit=\"#\", title=f\"Splitting calls (n={n})\")\n",
    "fig.write_image(\"../plots/calls_two_v_modal.png\")\n",
    "fig.show()"
   ]
  }
 ],
 "metadata": {
  "kernelspec": {
   "display_name": "sat",
   "language": "python",
   "name": "python3"
  },
  "language_info": {
   "codemirror_mode": {
    "name": "ipython",
    "version": 3
   },
   "file_extension": ".py",
   "mimetype": "text/x-python",
   "name": "python",
   "nbconvert_exporter": "python",
   "pygments_lexer": "ipython3",
   "version": "3.11.5"
  }
 },
 "nbformat": 4,
 "nbformat_minor": 2
}

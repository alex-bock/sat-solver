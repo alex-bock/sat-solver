{
 "cells": [
  {
   "cell_type": "code",
   "execution_count": null,
   "metadata": {},
   "outputs": [],
   "source": [
    "import glob\n",
    "import json\n",
    "import os\n",
    "import pandas as pd\n",
    "\n",
    "def get_method_df(method: str, n: int) -> pd.DataFrame:\n",
    "\n",
    "    method_df = pd.DataFrame()\n",
    "    for fp in sorted(glob.glob(os.path.join(\"../results/\", method, f\"n={n}/\", \"l=*.json\"))):\n",
    "        with open(fp, \"r\") as f:\n",
    "            result_json = json.load(f)\n",
    "        if len(result_json[\"results\"]) == 0:\n",
    "            continue\n",
    "        result_df = pd.DataFrame(result_json[\"results\"])\n",
    "        result_df[\"l\"] = result_json[\"l\"]\n",
    "        method_df = pd.concat([method_df, result_df])\n",
    "    \n",
    "    return method_df"
   ]
  },
  {
   "cell_type": "code",
   "execution_count": null,
   "metadata": {},
   "outputs": [],
   "source": [
    "import plotly.graph_objects as go\n",
    "\n",
    "method = \"modal\"\n",
    "ns = [10, 20, 30, 40, 100]\n",
    "\n",
    "fig = go.Figure()\n",
    "skips = None\n",
    "\n",
    "for n in ns:\n",
    "    df = get_method_df(method=method, n=n)\n",
    "    p_trend = [len(df[(df.result == 1) & (df.l == l)]) / 100 for l in sorted(df.l.unique())]\n",
    "    fig.add_trace(go.Scatter(x=sorted(df.l.unique() / n), y=p_trend, name=n))\n",
    "    if skips is None:\n",
    "        skips = [(100 - len(df[df.l == l])) / 100 for l in sorted(df.l.unique())]\n",
    "\n",
    "if sum(skips) > 0:\n",
    "    fig.add_trace(go.Scatter(x=sorted(df.l.unique() / n), y=skips, name=\"skips\"))\n",
    "\n",
    "fig.update_layout(\n",
    "    title=\"Probability of formula satisfiability\",\n",
    "    xaxis_title=\"Ratio\",\n",
    "    yaxis_title=\"Probability\",\n",
    "    legend_title=\"# of variables\"\n",
    ")\n",
    "fig.write_image(f\"../plots/prob_{method}.png\")\n",
    "fig.show()"
   ]
  }
 ],
 "metadata": {
  "kernelspec": {
   "display_name": "sat",
   "language": "python",
   "name": "python3"
  },
  "language_info": {
   "codemirror_mode": {
    "name": "ipython",
    "version": 3
   },
   "file_extension": ".py",
   "mimetype": "text/x-python",
   "name": "python",
   "nbconvert_exporter": "python",
   "pygments_lexer": "ipython3",
   "version": "3.11.5"
  }
 },
 "nbformat": 4,
 "nbformat_minor": 2
}
